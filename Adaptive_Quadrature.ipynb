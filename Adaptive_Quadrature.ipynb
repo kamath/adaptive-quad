{
  "nbformat": 4,
  "nbformat_minor": 0,
  "metadata": {
    "colab": {
      "name": "Adaptive Quadrature",
      "provenance": [],
      "collapsed_sections": [],
      "authorship_tag": "ABX9TyMCV5Qh4mbbFQhw1Qg/3daq",
      "include_colab_link": true
    },
    "kernelspec": {
      "name": "python3",
      "display_name": "Python 3"
    },
    "language_info": {
      "name": "python"
    }
  },
  "cells": [
    {
      "cell_type": "markdown",
      "metadata": {
        "id": "view-in-github",
        "colab_type": "text"
      },
      "source": [
        "<a href=\"https://colab.research.google.com/github/kamath/adaptive-quad/blob/master/Adaptive_Quadrature.ipynb\" target=\"_parent\"><img src=\"https://colab.research.google.com/assets/colab-badge.svg\" alt=\"Open In Colab\"/></a>"
      ]
    },
    {
      "cell_type": "markdown",
      "metadata": {
        "id": "CYo1K4iy6C2j"
      },
      "source": [
        "<!-- # Adaptive Quadrature -->\n",
        "\n",
        "<!-- Concept - local error is large when function changes a lot (i.e. high $f^{(k)}$)\n",
        "\n",
        "Instead, we propose an **adaptive grid** where we have smaller grid sizes where f varies a lot, and larger where it doesn't as much\n",
        "\n",
        "## Math Intuition\n",
        "\n",
        "We consider an interval $[a, b]$.\n",
        "\n",
        "$$\\text{For an interval }[a, b]\\text{ let }h = \\frac{1}{2}(b-a)$$\n",
        "\n",
        "### Simpson's Rule\n",
        "\n",
        "General form given a function $f$ and start/end points $p$ and $q$:\n",
        "$$S(f, p, q) = \\frac{q-p}{6}[f(p) + 4f(\\frac{p+q}{2}) + f(p)]$$\n",
        "\n",
        "N.B.: we use $p$ and $q$ above\n",
        "\n",
        "Then,\n",
        "\n",
        "$$S_1[a, b] = \\frac{b-a}{6}[f(a) + 4f(\\frac{a+b}{2}) + f(b)]$$\n",
        "\n",
        "We define this as $S_1$ because it's the first such interval we define over the interval $[a, b]$\n",
        "\n",
        "### Simpson's Rule Error\n",
        "\n",
        "$$E_1[a, b] = \\frac{-1}{90}h^5f^{(4)}(\\xi)\\quad\\xi\\in[a, b]$$\n",
        "\n",
        "Proof: beyond the scope\n",
        "\n",
        "### Full Integral (approximation + error)\n",
        "\n",
        "$$\\int_{a}^{b}f\\,dx = S_1[a,b] + E_1[a,b]$$\n",
        "\n",
        "## Mathematical algorithm\n",
        "Let $m = \\frac{a+b}{2}$, the midpoint of a and b\n",
        "\n",
        "By fundamental theorem of calculus:\n",
        "\n",
        "$$\\int_{a}^{b}f\\,dx = \\int_{a}^{m}f\\,dx + \\int_{m}^{b}f\\,dx$$\n",
        "\n",
        "$$= S_1[a, m] + E_1[a, m] + S_1[m, b] + E_1[m, b] $$\n",
        "\n",
        "$$= S_1[a, m] + S_1[m, b] + E_1[a, m] + E_1[m, b] $$\n",
        "\n",
        "Let $S_2[a, b] = S_1[a, m] + S_1[m, b]$. Similarly for $E_1$.\n",
        "\n",
        "Then,\n",
        "\n",
        "$$E_2 = $$ -->"
      ]
    },
    {
      "cell_type": "code",
      "metadata": {
        "id": "Mx_p2h_uqNTI"
      },
      "source": [
        "import numpy as np"
      ],
      "execution_count": 1,
      "outputs": []
    },
    {
      "cell_type": "code",
      "metadata": {
        "id": "fVXbvdNvqQFr"
      },
      "source": [
        "simpson = lambda f, a, b: ((b-a) / 6) * (f(a) + 4*f((a+b)/2) + f(b))\n",
        "\n",
        "def adaptive_quadrature(f, a, b, tol=.001, quad=simpson):\n",
        "    '''\n",
        "    Computes adaptive quadrature\n",
        "\n",
        "    :param f: a function f(x)\n",
        "    :param a: the start point\n",
        "    :param b: the end point\n",
        "    :param tol: the max error desired\n",
        "    :param quad: the quadrature method (default simpson's rule)\n",
        "    '''\n",
        "    c = (a + b) / 2\n",
        "\n",
        "    s1 = quad(f, a, b)\n",
        "    s2 = quad(f, a, c) + quad(f, c, b)\n",
        "    e2 = (1/15) * (s2 - s1)\n",
        "\n",
        "    if abs(e2) < tol:\n",
        "        return s2 + e2\n",
        "    \n",
        "    left = adaptive_quadrature(f, a, c, tol / 2, quad)\n",
        "    right = adaptive_quadrature(f, c, b, tol / 2, quad)\n",
        "    return left + right\n",
        "\n",
        "def adaptive_step(f, a, b, tol=.001, quad=simpson):\n",
        "    '''\n",
        "    Computes adaptive quadrature as a list of steps (same params as above)\n",
        "    '''\n",
        "    c = (a + b) / 2\n",
        "\n",
        "    s1 = quad(f, a, b)\n",
        "    s2 = quad(f, a, c) + quad(f, c, b)\n",
        "    e2 = (1/15) * (s2 - s1)\n",
        "    # print(a, \"to\", b, \"has error\", abs(e2))\n",
        "\n",
        "    if abs(e2) < tol:\n",
        "        return [[a, c, b, s2 + e2, abs(e2)], [a, (a+c) / 2, c, s2 + e2, abs(e2), \"FINAL\"], [c, (c+b) / 2, b, s2 + e2, abs(e2), \"FINAL\"]]\n",
        "    \n",
        "    ans = [[a, c, b, s2 + e2, e2 * 2]]\n",
        "    ans += adaptive_step(f, a, c, tol / 2, quad)\n",
        "    ans += adaptive_step(f, c, b, tol / 2, quad)\n",
        "    return ans\n",
        "\n",
        "def measure(f, i, a, b, tol=.001, quad=simpson):\n",
        "    '''\n",
        "    Formats results nicely\n",
        "\n",
        "    Same params as above, with i(a, b) being the integral function from a to b\n",
        "    '''\n",
        "    ans = adaptive_step(f, a, b, tol, quad)\n",
        "    exp = i(a, b)\n",
        "    print(\"\")\n",
        "    for x, mid, y, est, err, *rest in ans:\n",
        "        print(f\"FROM {x} to {y} AREA: {est} ERR: {err}\")\n",
        "        if len(rest):\n",
        "            print(\"DONE\\n\")\n",
        "    ans = adaptive_quadrature(f, a, b, tol, quad)\n",
        "    print(\"FINAL ANSWER:\", ans, \"FINAL ERROR:\", abs(ans - exp))"
      ],
      "execution_count": 2,
      "outputs": []
    },
    {
      "cell_type": "code",
      "metadata": {
        "colab": {
          "base_uri": "https://localhost:8080/"
        },
        "id": "PMxGlFtMTDAu",
        "outputId": "691a67e1-7266-42fa-dd55-6bfd5d0f10fb"
      },
      "source": [
        "# Integral of cos from 0 to 5 (sanity check)\n",
        "measure(np.cos, lambda a, b: np.sin(b) - np.sin(a), 0, 5)"
      ],
      "execution_count": 3,
      "outputs": [
        {
          "output_type": "stream",
          "text": [
            "\n",
            "FROM 0 to 5 AREA: -0.9330928848076648 ERR: 0.08345841822451154\n",
            "FROM 0 to 2.5 AREA: 0.5983780740559801 ERR: -0.0012520029322806714\n",
            "FROM 0 to 1.25 AREA: 0.9489826487684763 ERR: 5.28401865553881e-05\n",
            "FROM 0 to 0.625 AREA: 0.9489826487684763 ERR: 5.28401865553881e-05\n",
            "DONE\n",
            "\n",
            "FROM 0.625 to 1.25 AREA: 0.9489826487684763 ERR: 5.28401865553881e-05\n",
            "DONE\n",
            "\n",
            "FROM 1.25 to 2.5 AREA: -0.3505117474048854 ERR: 1.9516801647286493e-05\n",
            "FROM 1.25 to 1.875 AREA: -0.3505117474048854 ERR: 1.9516801647286493e-05\n",
            "DONE\n",
            "\n",
            "FROM 1.875 to 2.5 AREA: -0.3505117474048854 ERR: 1.9516801647286493e-05\n",
            "DONE\n",
            "\n",
            "FROM 2.5 to 5 AREA: -1.5571516214824181 ERR: 0.0032580712439659837\n",
            "FROM 2.5 to 3.75 AREA: -1.1700310332464805 ERR: 6.514835455904885e-05\n",
            "FROM 2.5 to 3.125 AREA: -1.1700310332464805 ERR: 6.514835455904885e-05\n",
            "DONE\n",
            "\n",
            "FROM 3.125 to 3.75 AREA: -1.1700310332464805 ERR: 6.514835455904885e-05\n",
            "DONE\n",
            "\n",
            "FROM 3.75 to 5 AREA: -0.3873621515532294 ERR: 2.1568664484158026e-05\n",
            "FROM 3.75 to 4.375 AREA: -0.3873621515532294 ERR: 2.1568664484158026e-05\n",
            "DONE\n",
            "\n",
            "FROM 4.375 to 5 AREA: -0.3873621515532294 ERR: 2.1568664484158026e-05\n",
            "DONE\n",
            "\n",
            "FINAL ANSWER: -0.9589222834361191 FINAL ERROR: 1.991227019382258e-06\n"
          ],
          "name": "stdout"
        }
      ]
    },
    {
      "cell_type": "code",
      "metadata": {
        "colab": {
          "base_uri": "https://localhost:8080/"
        },
        "id": "OEA4fW5HZypX",
        "outputId": "2031d8b3-9dd9-4e8d-bd10-f619d46a3712"
      },
      "source": [
        "from scipy.special import jv # Bessel function\n",
        "import scipy.integrate as integrate # Test integration\n",
        "\n",
        "f = lambda x: jv(1, x)\n",
        "a = 0\n",
        "b = 5\n",
        "actual_integral = lambda a, b: integrate.quad(f, a, b)[0]\n",
        "\n",
        "measure(f, actual_integral, a, b)"
      ],
      "execution_count": 4,
      "outputs": [
        {
          "output_type": "stream",
          "text": [
            "\n",
            "FROM 0 to 5 AREA: 1.1708532649342758 ERR: -0.0266430577442188\n",
            "FROM 0 to 2.5 AREA: 1.0483035865712638 ERR: -0.0012322154152480873\n",
            "FROM 0 to 1.25 AREA: 0.35409352280846573 ERR: 1.203854537173236e-05\n",
            "FROM 0 to 0.625 AREA: 0.35409352280846573 ERR: 1.203854537173236e-05\n",
            "DONE\n",
            "\n",
            "FROM 0.625 to 1.25 AREA: 0.35409352280846573 ERR: 1.203854537173236e-05\n",
            "DONE\n",
            "\n",
            "FROM 1.25 to 2.5 AREA: 0.6942891738318588 ERR: 2.1523807038474155e-05\n",
            "FROM 1.25 to 1.875 AREA: 0.6942891738318588 ERR: 2.1523807038474155e-05\n",
            "DONE\n",
            "\n",
            "FROM 1.875 to 2.5 AREA: 0.6942891738318588 ERR: 2.1523807038474155e-05\n",
            "DONE\n",
            "\n",
            "FROM 2.5 to 5 AREA: 0.12924473935330166 ERR: 0.0002019534650103183\n",
            "FROM 2.5 to 3.75 AREA: 0.12924473935330166 ERR: 0.0002019534650103183\n",
            "DONE\n",
            "\n",
            "FROM 3.75 to 5 AREA: 0.12924473935330166 ERR: 0.0002019534650103183\n",
            "DONE\n",
            "\n",
            "FINAL ANSWER: 1.1776274359936263 FINAL ERROR: 3.066467928825034e-05\n"
          ],
          "name": "stdout"
        }
      ]
    },
    {
      "cell_type": "code",
      "metadata": {
        "colab": {
          "base_uri": "https://localhost:8080/"
        },
        "id": "H6BhxaAmnqlq",
        "outputId": "7bc708ae-260c-4bc5-8710-639e4270678d"
      },
      "source": [
        "# Sinc function\n",
        "f = lambda x: np.sin(x) / x\n",
        "a = 0.01\n",
        "b = 14.5\n",
        "actual_integral = lambda a, b: integrate.quad(f, a, b)[0]\n",
        "\n",
        "measure(f, actual_integral, a, b, tol=.1)"
      ],
      "execution_count": 5,
      "outputs": [
        {
          "output_type": "stream",
          "text": [
            "\n",
            "FROM 0.01 to 14.5 AREA: 0.2806166556876185 ERR: -0.423718401100563\n",
            "FROM 0.01 to 7.255 AREA: 1.5203664283072165 ERR: 0.10028281914091401\n",
            "FROM 0.01 to 3.6325 AREA: 1.8078521229506088 ERR: 0.00013587159561569232\n",
            "FROM 0.01 to 1.8212499999999998 AREA: 1.8078521229506088 ERR: 0.00013587159561569232\n",
            "DONE\n",
            "\n",
            "FROM 1.8212499999999998 to 3.6325 AREA: 1.8078521229506088 ERR: 0.00013587159561569232\n",
            "DONE\n",
            "\n",
            "FROM 3.6325 to 7.255 AREA: -0.33662853681551425 ERR: 0.0001982820580116488\n",
            "FROM 3.6325 to 5.44375 AREA: -0.33662853681551425 ERR: 0.0001982820580116488\n",
            "DONE\n",
            "\n",
            "FROM 5.44375 to 7.255 AREA: -0.33662853681551425 ERR: 0.0001982820580116488\n",
            "DONE\n",
            "\n",
            "FROM 7.255 to 14.5 AREA: 0.13677523423400778 ERR: 0.022650203323500755\n",
            "FROM 7.255 to 10.8775 AREA: 0.13677523423400778 ERR: 0.022650203323500755\n",
            "DONE\n",
            "\n",
            "FROM 10.8775 to 14.5 AREA: 0.13677523423400778 ERR: 0.022650203323500755\n",
            "DONE\n",
            "\n",
            "FINAL ANSWER: 1.6079988203691025 FINAL ERROR: 0.027275902742820657\n"
          ],
          "name": "stdout"
        }
      ]
    },
    {
      "cell_type": "code",
      "metadata": {
        "colab": {
          "base_uri": "https://localhost:8080/"
        },
        "id": "DUMYUUbwWosk",
        "outputId": "f30483fa-d015-4c70-cf05-8e220c0ece8e"
      },
      "source": [
        "# \"Wonky\" function\n",
        "f = lambda x: -16 * np.pi / (x+1)**2 * np.sin(4 * np.pi / (x + 1))\n",
        "a = 0\n",
        "b = 5\n",
        "actual_integral = lambda a, b: integrate.quad(f, a, b)[0]\n",
        "\n",
        "measure(f, actual_integral, a, b, tol=.1)"
      ],
      "execution_count": 6,
      "outputs": [
        {
          "output_type": "stream",
          "text": [
            "\n",
            "FROM 0 to 5 AREA: 10.177810191349073 ERR: 0.6563690706804528\n",
            "FROM 0 to 2.5 AREA: -9.229981425258693 ERR: -2.5761054508645618\n",
            "FROM 0 to 1.25 AREA: -1.794064779424911 ERR: 1.577940040017748\n",
            "FROM 0 to 0.625 AREA: 3.7771042005988322 ERR: 0.4916824111560614\n",
            "FROM 0 to 0.3125 AREA: 7.968373328884408 ERR: 0.0017271857681982656\n",
            "FROM 0 to 0.15625 AREA: 7.968373328884408 ERR: 0.0017271857681982656\n",
            "DONE\n",
            "\n",
            "FROM 0.15625 to 0.3125 AREA: 7.968373328884408 ERR: 0.0017271857681982656\n",
            "DONE\n",
            "\n",
            "FROM 0.3125 to 0.625 AREA: -4.438123417829446 ERR: 0.001663868020333285\n",
            "FROM 0.3125 to 0.46875 AREA: -4.438123417829446 ERR: 0.001663868020333285\n",
            "DONE\n",
            "\n",
            "FROM 0.46875 to 0.625 AREA: -4.438123417829446 ERR: 0.001663868020333285\n",
            "DONE\n",
            "\n",
            "FROM 0.625 to 1.25 AREA: -2.5803705273719384 ERR: 0.00960567603673829\n",
            "FROM 0.625 to 0.9375 AREA: -2.5803705273719384 ERR: 0.00960567603673829\n",
            "DONE\n",
            "\n",
            "FROM 0.9375 to 1.25 AREA: -2.5803705273719384 ERR: 0.00960567603673829\n",
            "DONE\n",
            "\n",
            "FROM 1.25 to 2.5 AREA: 6.667123528510743 ERR: 0.01196669554814124\n",
            "FROM 1.25 to 1.875 AREA: 6.667123528510743 ERR: 0.01196669554814124\n",
            "DONE\n",
            "\n",
            "FROM 1.875 to 2.5 AREA: 6.667123528510743 ERR: 0.01196669554814124\n",
            "DONE\n",
            "\n",
            "FROM 2.5 to 5 AREA: -1.605345546927527 ERR: 0.004756813829910733\n",
            "FROM 2.5 to 3.75 AREA: -1.605345546927527 ERR: 0.004756813829910733\n",
            "DONE\n",
            "\n",
            "FROM 3.75 to 5 AREA: -1.605345546927527 ERR: 0.004756813829910733\n",
            "DONE\n",
            "\n",
            "FINAL ANSWER: 6.01165736526624 FINAL ERROR: 0.01165736526624439\n"
          ],
          "name": "stdout"
        }
      ]
    },
    {
      "cell_type": "markdown",
      "metadata": {
        "id": "0JvBmqiKZkFh"
      },
      "source": [
        "Sources: \n",
        "\n",
        "- Wen Shen's Lecture Notes https://www.youtube.com/watch?v=M-AiOqmleaI&ab_channel=wenshenpsu\n"
      ]
    },
    {
      "cell_type": "code",
      "metadata": {
        "id": "_3kXmZcmX8R8"
      },
      "source": [
        ""
      ],
      "execution_count": 6,
      "outputs": []
    }
  ]
}